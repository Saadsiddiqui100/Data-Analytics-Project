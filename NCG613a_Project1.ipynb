{
 "cells": [
  {
   "cell_type": "code",
   "execution_count": null,
   "id": "de6d8acf",
   "metadata": {},
   "outputs": [],
   "source": [
    "import geopandas as geop\n",
    "import pandas as pd\n",
    "import numpy as np\n",
    "import warnings"
   ]
  },
  {
   "cell_type": "code",
   "execution_count": null,
   "id": "36abd84b",
   "metadata": {},
   "outputs": [],
   "source": [
    "# Reading crimes csv file\n",
    "\n",
    "crime_hist = pd.read_csv('MPS LSOA Level Crime (Historical).csv')"
   ]
  },
  {
   "cell_type": "code",
   "execution_count": null,
   "id": "65c98657",
   "metadata": {},
   "outputs": [],
   "source": [
    "# New data set with 2011 colums and new variable with sum calculation by row. \n",
    "\n",
    "crime_2011 = crime_hist[crime_hist.columns[crime_hist.columns.str.startswith(('2011'))]]\n",
    "crime_2011_totals = crime_2011.sum(axis=1)"
   ]
  },
  {
   "cell_type": "code",
   "execution_count": null,
   "id": "b42f57da",
   "metadata": {},
   "outputs": [],
   "source": [
    "# New data set with 2021 colums and new variable with sum calculation by LSOA (row). \n",
    "\n",
    "crime_2021 = crime_hist[crime_hist.columns[crime_hist.columns.str.startswith(('2021'))]]\n",
    "crime_2021_totals = crime_2021.sum(axis=1)"
   ]
  },
  {
   "cell_type": "code",
   "execution_count": null,
   "id": "129eda35",
   "metadata": {},
   "outputs": [],
   "source": [
    "# Copy of crime data and merging of 2011 and 2021 totals by row\n",
    "\n",
    "crime_cases = crime_hist\n",
    "crime_cases ['2011 Crime Cases'] = crime_2011_totals\n",
    "crime_cases ['2021 Crime Cases'] = crime_2021_totals"
   ]
  },
  {
   "cell_type": "code",
   "execution_count": null,
   "id": "dddca8b0",
   "metadata": {},
   "outputs": [],
   "source": [
    "# Selection of column\n",
    "\n",
    "crime_cases = crime_cases[['LSOA Code', 'LSOA Name', '2011 Crime Cases', '2021 Crime Cases']]"
   ]
  },
  {
   "cell_type": "code",
   "execution_count": null,
   "id": "b9697eb8",
   "metadata": {},
   "outputs": [],
   "source": [
    "# Group by and summary of the dataset, grouping by LSOA Code and Name and them summary of totals by LSOA for 2011 and 2021\n",
    "\n",
    "crime = crime_cases.groupby(['LSOA Code','LSOA Name']).agg(\n",
    "    LSOA_Crime2011 =('2011 Crime Cases', 'sum'),\n",
    "    LSOA_Crime2021 =('2021 Crime Cases', 'sum')\n",
    ")\n",
    "\n",
    "crime.head(5)"
   ]
  },
  {
   "cell_type": "code",
   "execution_count": null,
   "id": "aa25dfde",
   "metadata": {},
   "outputs": [],
   "source": [
    "# Read in population by place of birth data 2011 and selection of relevant columns\n",
    "\n",
    "POB_2011 = pd.read_excel('Country of birth.xlsx', sheet_name= '2011')\n",
    "POB_2011 = POB_2011 [['LSOA code', 'All Usual residents','United Kingdom']]\n",
    "POB_2011['Non UK Percentage']= 1-(POB_2011['United Kingdom']/POB_2011['All Usual residents'])\n",
    "\n",
    "POB_2011.drop(columns='United Kingdom', inplace=True)\n",
    "#POB_2011 = POB_2011 [['LSOA code', 'All Usual residents', 'Non UK Percentage']]\n",
    "POB_2011 = POB_2011.rename(columns={'LSOA code': 'LSOA Code'})\n",
    "POB_2011.head(5)"
   ]
  },
  {
   "cell_type": "code",
   "execution_count": null,
   "id": "583da716",
   "metadata": {},
   "outputs": [],
   "source": [
    "# Read in population by place of birth data 2021 and selection of relevant columns\n",
    "\n",
    "POB_2021 = pd.read_excel('Country of birth.xlsx', sheet_name= '2021')\n",
    "POB_2021 = POB_2021 [['LSOA code', 'All Usual residents','United Kingdom']]\n",
    "POB_2021['Non UK Percentage']= 1-(POB_2021['United Kingdom']/POB_2021['All Usual residents'])\n",
    "POB_2021.drop(columns='United Kingdom' ,inplace=True)\n",
    "\n",
    "POB_2021 = POB_2021.rename(columns={'LSOA code': 'LSOA Code'})\n",
    "POB_2021.head(5)"
   ]
  },
  {
   "cell_type": "code",
   "execution_count": null,
   "id": "58b54526",
   "metadata": {},
   "outputs": [],
   "source": [
    "# Find number of null values in POB 2011 and 2022 datasets\n",
    "\n",
    "# Find mean, count and number of null values for each dataset\n",
    "\n",
    "# To fix: printing out the fivenum values(i.e. min, 2nd, 3rd, 4th quartile and max)\n",
    "\n",
    "\n",
    "yearnum = int()\n",
    "\n",
    "for n in [POB_2011, POB_2021]:\n",
    "    data_name = [name for name, obj in locals().items() if obj is n][0]\n",
    "    n['Non UK Percentage'] = pd.Series(n['Non UK Percentage'])\n",
    "    #Get summary statistics\n",
    "    #%8.2f\n",
    "    fivenum_summary = np.percentile(n['Non UK Percentage'].astype(float).dropna(), [0, 25, 50, 75, 100])\n",
    "    print(\"{} statistics:\".format(data_name) + \" Min:{}\".format(round(fivenum_summary[0],3)) + \", Q1:{} \".format(round(fivenum_summary[1],3)) + \", Median:{}\".format(round(fivenum_summary[2],3))  + \", Q3:{}\".format(round(fivenum_summary[3],3)) + \", Max:{}\".format(round(fivenum_summary[4],3)))\n",
    "    print(\"Mean Non UK population {} \".format(data_name) + \" is \"+  str(n['All Usual residents'].mean()))\n",
    "    print(\"Mean Non UK population percentage for {} \".format(data_name) + \" is \"+  str(n['Non UK Percentage'].mean()))\n",
    "    print(\"Variance Non UK population percentage for {} \".format(data_name) + \" is \"+  str(n['Non UK Percentage'].var()))\n",
    "    print(\"Number of null population percentage values for {} \".format(data_name) + \" is \"+  str(n['Non UK Percentage'].isnull().sum()))\n",
    "    print(\"Count of LSOAs with population percentage values  for {} \".format(data_name) + \" is \"+  str(n['Non UK Percentage'].count()))\n"
   ]
  },
  {
   "cell_type": "code",
   "execution_count": null,
   "id": "b524e75c",
   "metadata": {},
   "outputs": [],
   "source": [
    "# Outer join with 2011 population\n",
    "\n",
    "crime = crime.merge(POB_2011, on='LSOA Code', how='outer')"
   ]
  },
  {
   "cell_type": "code",
   "execution_count": null,
   "id": "814ea041",
   "metadata": {},
   "outputs": [],
   "source": [
    "# Change of column name\n",
    "\n",
    "crime = crime.rename(columns={'All Usual residents': '2011 Population'})"
   ]
  },
  {
   "cell_type": "code",
   "execution_count": null,
   "id": "9e379e0f",
   "metadata": {},
   "outputs": [],
   "source": [
    "# Outer join with 2021 population\n",
    "\n",
    "crime = crime.merge(POB_2021, on='LSOA Code', how='outer')"
   ]
  },
  {
   "cell_type": "code",
   "execution_count": null,
   "id": "f7c57693",
   "metadata": {},
   "outputs": [],
   "source": [
    "# Change of column name\n",
    "\n",
    "crime = crime.rename(columns={'All Usual residents': '2021 Population'})\n",
    "crime=crime.rename(columns={'Non UK Percentage_x': '2011 Non UK Percentage'})\n",
    "crime=crime.rename(columns={'Non UK Percentage_y': '2021 Non UK Percentage'})"
   ]
  },
  {
   "cell_type": "code",
   "execution_count": null,
   "id": "3206b6fe",
   "metadata": {},
   "outputs": [],
   "source": [
    "crime.head(5)"
   ]
  },
  {
   "cell_type": "code",
   "execution_count": null,
   "id": "a78d3c56",
   "metadata": {},
   "outputs": [],
   "source": [
    "# Checking if there are any missing values. There are 6 rows missing crime data. \n",
    "\n",
    "crime.isnull().sum()"
   ]
  },
  {
   "cell_type": "code",
   "execution_count": null,
   "id": "7bd3219f",
   "metadata": {},
   "outputs": [],
   "source": [
    "# Crime copy for final dataset\n",
    "crime_final = crime.copy()"
   ]
  },
  {
   "cell_type": "code",
   "execution_count": null,
   "id": "08dfc1f1",
   "metadata": {},
   "outputs": [],
   "source": [
    "# Calculation of 2011 crime rate by 1000 people\n",
    "\n",
    "crime_final ['2011 Crime/1000 people'] = crime_final ['LSOA_Crime2011']/ (crime_final['2011 Population']/1000)"
   ]
  },
  {
   "cell_type": "code",
   "execution_count": null,
   "id": "e89498a0",
   "metadata": {},
   "outputs": [],
   "source": [
    "# Calculation of 2021 crime rate by 1000 people\n",
    "\n",
    "crime_final ['2021 Crime/1000 people'] = crime_final ['LSOA_Crime2021']/ (crime_final['2021 Population']/1000)\n",
    "\n"
   ]
  },
  {
   "cell_type": "code",
   "execution_count": null,
   "id": "2802589c",
   "metadata": {},
   "outputs": [],
   "source": [
    "# Reading crime csv file\n",
    "\n",
    "#crime_hist = pd.read_excel('occupation.xlsx')\n",
    "# Read multiple sheets\n",
    "sheet_names = ['2011', '2021', 'change 2011-2021']  # List of sheet names\n",
    "df_dict = pd.read_excel('occupation.xlsx', sheet_name=sheet_names)\n",
    "\n",
    "# Access each DataFrame by sheet name\n",
    "df_2011 = df_dict['2011']\n",
    "df_2021 = df_dict['2021']\n",
    "df_change = df_dict['change 2011-2021']\n"
   ]
  },
  {
   "cell_type": "code",
   "execution_count": null,
   "id": "2674aeea",
   "metadata": {},
   "outputs": [],
   "source": [
    "df_2011.rename(columns={'All usual residents aged 16-74 in employment':'Total Workforce'}, inplace=True)\n",
    "df_2011.head(5)"
   ]
  },
  {
   "cell_type": "code",
   "execution_count": null,
   "id": "8798db08",
   "metadata": {},
   "outputs": [],
   "source": [
    "df_2011.isnull().sum()"
   ]
  },
  {
   "cell_type": "code",
   "execution_count": null,
   "id": "36aec1d5",
   "metadata": {},
   "outputs": [],
   "source": [
    "df_2021.rename(columns={'All usual residents aged 16 and over in employment':'Total Workforce'}, inplace=True)\n",
    "df_2021.head(5)"
   ]
  },
  {
   "cell_type": "code",
   "execution_count": null,
   "id": "c9b4d263",
   "metadata": {},
   "outputs": [],
   "source": [
    "column_categories = {\n",
    "    'White Collar': ['1. Managers, directors and senior officials', '2. Professional occupations', '3. Associate professional and technical occupations'],\n",
    "    'Blue Collar': ['4. Adminis-trative and secretarial occupations', '5. Skilled trades occupations', '8. Process, plant and machine operatives'],\n",
    "    'Elementary': ['6. Caring, leisure and other service occupations', '7. Sales and customer service occupations', '9. Elementary occupations']\n",
    "}\n"
   ]
  },
  {
   "cell_type": "code",
   "execution_count": null,
   "id": "f6acff98",
   "metadata": {},
   "outputs": [],
   "source": [
    "# 2011 data aggreated in 3 groups, update the proportion of each group\n",
    "\n",
    "df_2011['White Collar Sum'] = df_2011[column_categories['White Collar']].sum(axis=1)\n",
    "df_2011['White Collar Prop'] = df_2011['White Collar Sum'] / df_2011['Total Workforce']\n",
    "\n",
    "df_2011['Blue Collar Sum'] = df_2011[column_categories['Blue Collar']].sum(axis=1)\n",
    "df_2011['Blue Collar Prop'] = df_2011['Blue Collar Sum'] / df_2011['Total Workforce']\n",
    "\n",
    "df_2011['Elementary Sum'] = df_2011[column_categories['Elementary']].sum(axis=1)\n",
    "df_2011['Elementary Prop'] = df_2011['Elementary Sum'] / df_2011['Total Workforce']\n",
    "\n",
    "df_2011 = df_2011.iloc[:, np.r_[0:3, -6:0]]\n",
    "df_2011.head(5)"
   ]
  },
  {
   "cell_type": "code",
   "execution_count": null,
   "id": "56c22d51",
   "metadata": {},
   "outputs": [],
   "source": [
    "# 2021 data aggreated in 3 groups, update the proportion of each group\n",
    "\n",
    "df_2021['White Collar Sum'] = df_2021[column_categories['White Collar']].sum(axis=1)\n",
    "df_2021['White Collar Prop'] = df_2021['White Collar Sum'] / df_2021['Total Workforce']\n",
    "\n",
    "df_2021['Blue Collar Sum'] = df_2021[column_categories['Blue Collar']].sum(axis=1)\n",
    "df_2021['Blue Collar Prop'] = df_2021['Blue Collar Sum'] / df_2021['Total Workforce']\n",
    "\n",
    "df_2021['Elementary Sum'] = df_2021[column_categories['Elementary']].sum(axis=1)\n",
    "df_2021['Elementary Prop'] = df_2021['Elementary Sum'] / df_2021['Total Workforce']\n",
    "\n",
    "df_2021 = df_2021.iloc[:, np.r_[2, -6:0]]\n",
    "df_2021.head(5)"
   ]
  },
  {
   "cell_type": "code",
   "execution_count": null,
   "id": "c5d87121",
   "metadata": {},
   "outputs": [],
   "source": [
    "# 2011 data left joined with 2021 by LSOA code\n",
    "\n",
    "merged_df = pd.merge(df_2011, df_2021, on='LSOA code', suffixes = (' 2011', ' 2021'), how='left')\n",
    "merged_df.rename(columns={'LSOA code': 'LSOA Code'}, inplace = True)\n",
    "merged_df.drop(columns=['local authority code','local authority name'], inplace=True)\n",
    "merged_df.head(5)"
   ]
  },
  {
   "cell_type": "code",
   "execution_count": null,
   "id": "c2591602",
   "metadata": {},
   "outputs": [],
   "source": [
    "# Some simple statistics for each group\n",
    "\n",
    "print(\"The mean for each group: \")\n",
    "print(merged_df.iloc[:,3:].mean())\n",
    "print()\n",
    "print(\"The standard deviation for each group: \")\n",
    "print(merged_df.iloc[:,3:].std())\n",
    "print()\n",
    "print(\"The five numbers for each group: \")\n",
    "print(merged_df.iloc[:,3:].quantile([0, 0.25, 0.5, 0.75, 1]))"
   ]
  },
  {
   "cell_type": "code",
   "execution_count": null,
   "id": "8e19a9f9",
   "metadata": {},
   "outputs": [],
   "source": [
    "crime_final = crime_final.merge(merged_df, on = 'LSOA Code', how='outer')\n",
    "crime_final.head(5)\n",
    "#Crime_Occupation[Crime_Occupation.isnull().any(axis=1)]"
   ]
  },
  {
   "cell_type": "code",
   "execution_count": null,
   "id": "0f4664e9",
   "metadata": {},
   "outputs": [],
   "source": [
    "# Read the crime data of 2021 for City of London\n",
    "crime_col2021 = pd.read_csv('2021-city-of-london-street.csv')\n",
    "crime_col2021.head()"
   ]
  },
  {
   "cell_type": "code",
   "execution_count": null,
   "id": "16421da1",
   "metadata": {},
   "outputs": [],
   "source": [
    "# Select rows of LSOA codes that have NaN values in the Final crime data\n",
    "\n",
    "na_lsoa = ['E01000001', 'E01000002', 'E01000003', 'E01000005', 'E01032739', 'E01032740']\n",
    "crime_col2021_filtered = crime_col2021[crime_col2021['LSOA code'].isin(na_lsoa) == True]\n",
    "crime_col2021_filtered = crime_col2021_filtered.groupby('LSOA code').size().reset_index(name = 'LSOA_Crime2021')\n",
    "crime_col2021_filtered.rename(columns={'LSOA code': 'LSOA Code'}, inplace=True)\n",
    "crime_col2021_filtered"
   ]
  },
  {
   "cell_type": "code",
   "execution_count": null,
   "id": "04bfa633",
   "metadata": {},
   "outputs": [],
   "source": [
    "# Now we calculate the crime rate for LSOAs beside the City of London, and one for the City of London alone\n",
    "crime_met = crime_final[crime_final['LSOA Code'].isin(na_lsoa) == False]\n",
    "crime_col = crime_final[crime_final['LSOA Code'].isin(na_lsoa) == True]\n",
    "\n",
    "crime_col['LSOA_Crime2021'] = crime_col2021_filtered['LSOA_Crime2021'].values\n",
    "crime_col['2021 Crime/1000 people'] = crime_col['LSOA_Crime2021'] / (crime_col['2021 Population']/1000)\n",
    "\n",
    "crime_2021_met_sum = crime_met['LSOA_Crime2021'].sum()\n",
    "crime_2021_col_sum = crime_col['LSOA_Crime2021'].sum()\n",
    "\n",
    "crime_diff = (crime_2021_col_sum - crime_2021_met_sum) / crime_2021_met_sum\n",
    "\n",
    "print('The total crime cases number in 2021 for the Metropolitan area is', crime_2021_met_sum)\n",
    "print('The total crime cases number in 2021 for the City of London is', crime_2021_col_sum)\n",
    "print('The difference in percentage between the two crime rates is', crime_diff*100, '%')"
   ]
  },
  {
   "cell_type": "code",
   "execution_count": null,
   "id": "c6303e6a",
   "metadata": {},
   "outputs": [],
   "source": [
    "# Now we calculate the crime rate of City of London in 2011: first calculate the sum by the same ratio to the Metropolitan area in 2021, and then calculate the crime case number of each LSOA by the weight matrix of 2021 crime case number\n",
    "\n",
    "\n",
    "crime_2011_met_sum = crime_met['LSOA_Crime2011'].sum()\n",
    "crime_2011_col_sum = round(crime_2011_met_sum * (1 + crime_diff))\n",
    "\n",
    "crime_col['LSOA_Crime2011'] = round(crime_2011_col_sum * crime_col['LSOA_Crime2021'] / crime_col['LSOA_Crime2021'].sum())\n",
    "crime_col['2011 Crime/1000 people'] = crime_col['LSOA_Crime2011'] / (crime_col['2011 Population']/1000)\n",
    "crime_col"
   ]
  },
  {
   "cell_type": "code",
   "execution_count": null,
   "id": "69047c94",
   "metadata": {},
   "outputs": [],
   "source": [
    "# Now we merge the new data of City of London into the final crime data\n",
    "\n",
    "crime_final.update(crime_col)\n",
    "crime_final[crime_final['LSOA Code'].isin(na_lsoa) == True]"
   ]
  },
  {
   "cell_type": "code",
   "execution_count": null,
   "id": "ecccb4fe",
   "metadata": {},
   "outputs": [],
   "source": [
    "# Final crime data\n",
    "\n",
    "crime_final.head(5)"
   ]
  },
  {
   "cell_type": "code",
   "execution_count": null,
   "id": "a03ed60a",
   "metadata": {},
   "outputs": [],
   "source": [
    "#List of missing values\n",
    "\n",
    "crime_final[crime_final.isnull().any(axis=1)]\n"
   ]
  },
  {
   "cell_type": "code",
   "execution_count": null,
   "id": "7f2a1ead",
   "metadata": {},
   "outputs": [],
   "source": [
    "# Reading 2021 LSOA Boundaries\n",
    "\n",
    "lsoa_2021 = geop.read_file('LSOA_Boundaries_2021.shp')\n"
   ]
  },
  {
   "cell_type": "code",
   "execution_count": null,
   "id": "188503b0",
   "metadata": {},
   "outputs": [],
   "source": [
    "# Change of column name\n",
    "\n",
    "lsoa_2021 = lsoa_2021.rename(columns={'LSOA21CD':'LSOA Code'})\n"
   ]
  },
  {
   "cell_type": "code",
   "execution_count": null,
   "id": "44ee7345",
   "metadata": {},
   "outputs": [],
   "source": [
    "# Selection of crime data for 2011 only\n",
    "\n",
    "crime_2011 = crime_final.copy()\n",
    "crime_2011 = crime_2011 [['LSOA Code', '2011 Crime/1000 people','2011 Population','2011 Non UK Percentage', 'White Collar Sum 2011','White Collar Prop 2011',\t'Blue Collar Sum 2011',\t'Blue Collar Prop 2011',\t'Elementary Sum 2011',\t'Elementary Prop 2011']]"
   ]
  },
  {
   "cell_type": "code",
   "execution_count": null,
   "id": "69666e73",
   "metadata": {},
   "outputs": [],
   "source": [
    "crime_2011.head()"
   ]
  },
  {
   "cell_type": "code",
   "execution_count": null,
   "id": "4b207488",
   "metadata": {},
   "outputs": [],
   "source": [
    "# Merging the 2011 crime data with the 2011 LSOA Boundaries.\n",
    "# Merging the geometry columns based on LSOA Code so that we have a 1-1 mapping between LSOA code, geometry and calculated columns.\n",
    "# Need to reset the index for LSOA column for later re-use.\n",
    "\n",
    "CrimeMap_2011 = lsoa_2021.merge(crime_2011)\n",
    "CrimeMap_2011 = CrimeMap_2011.dissolve('LSOA Code')\n",
    "CrimeMap_2011.reset_index(inplace=True)"
   ]
  },
  {
   "cell_type": "code",
   "execution_count": null,
   "id": "e4f33e24",
   "metadata": {},
   "outputs": [],
   "source": [
    "# View of Merged Data\n",
    "\n",
    "CrimeMap_2011.head(5)"
   ]
  },
  {
   "cell_type": "code",
   "execution_count": null,
   "id": "9e437c2c",
   "metadata": {},
   "outputs": [],
   "source": [
    "# There are only 6 LSOAs with missing crime rate and 37 with a missing immigration rate\n",
    "\n",
    "CrimeMap_2011.isnull().sum()"
   ]
  },
  {
   "cell_type": "code",
   "execution_count": null,
   "id": "752db973",
   "metadata": {},
   "outputs": [],
   "source": [
    "# These are the rows with the missing crime rate values\n",
    "\n",
    "CrimeMap_2011[CrimeMap_2011.isnull().any(axis=1)]"
   ]
  },
  {
   "cell_type": "code",
   "execution_count": null,
   "id": "56e65ce3",
   "metadata": {},
   "outputs": [],
   "source": [
    "# This plot shows that there are some boundaries missing from the data\n",
    "\n",
    "CrimeMap_2011.plot()"
   ]
  },
  {
   "cell_type": "code",
   "execution_count": null,
   "id": "2f91c8e2",
   "metadata": {},
   "outputs": [],
   "source": [
    "# Selection of crime data for 2021 only\n",
    "\n",
    "crime_2021 = crime_final.copy()\n",
    "crime_2021 = crime_2021 [['LSOA Code', '2021 Crime/1000 people','2021 Population','2021 Non UK Percentage','White Collar Sum 2021','White Collar Prop 2021',\t'Blue Collar Sum 2021',\t'Blue Collar Prop 2021',\t'Elementary Sum 2021',\t'Elementary Prop 2021']]\n",
    "crime_2021.head(5)"
   ]
  },
  {
   "cell_type": "code",
   "execution_count": null,
   "id": "a8f8ba6a",
   "metadata": {},
   "outputs": [],
   "source": [
    "# Merging the 2021 crime data with the 2021 LSOA Boundaries\n",
    "# Merging the geometry columns based on LSOA Code so that we have a 1-1 mapping between LSOA code, geometry and calculated columns.\n",
    "# Need to reset the index for LSOA column for later re-use.\n",
    "\n",
    "CrimeMap_2021 = lsoa_2021.merge(crime_2021)\n",
    "CrimeMap_2021 = CrimeMap_2021.dissolve('LSOA Code')\n",
    "CrimeMap_2021.reset_index(inplace=True)"
   ]
  },
  {
   "cell_type": "code",
   "execution_count": null,
   "id": "e49c75e7",
   "metadata": {},
   "outputs": [],
   "source": [
    "# View of Merged Data\n",
    "\n",
    "CrimeMap_2021.head(5)"
   ]
  },
  {
   "cell_type": "code",
   "execution_count": null,
   "id": "0e19938d",
   "metadata": {},
   "outputs": [],
   "source": [
    "# This plot shows that we are not missing any boundaries for 2021\n",
    "\n",
    "CrimeMap_2021.plot()"
   ]
  },
  {
   "cell_type": "code",
   "execution_count": null,
   "id": "09a58efa",
   "metadata": {},
   "outputs": [],
   "source": [
    "# There are only 6 LSOAs with missing crime rate. LSOA21NMW does not matter to us.\n",
    "\n",
    "CrimeMap_2021.isnull().sum()"
   ]
  },
  {
   "cell_type": "markdown",
   "id": "179b5038",
   "metadata": {},
   "source": [
    "Analysis:-\n",
    "Analysing the crime rate & relationship with non-UK population the following steps were carried out:-\n",
    "1. Set inf or NaNs to 0. These were a consequence of a handful (6) LSOAs having no crime rate available in the dataset we used. \n",
    "2. Starting with the crime rate & non-UK population rates, as calculated earlier in the code, the overall correlation between the 2 columns,  was found to be 0.197 and 0.243 for 2011 and 2021 respectively.\n",
    "3. Ranked crime rates & non-UK population rates in descending order, for use in further analysis.\n",
    "4. Sorted the crime rates in descending order (so LSOA with highest crime rates were first), we found for 2011\n",
    "    (a)1 LSOA in East London (Newham) followed by Westminister (tourist and business area in Central London) had the highest crime rates.  Looking at crime rank versus non-UK population rank on their own, there's no apparent correlation for Westminister. An implication of this could be that there's other factors here, which would require further data to analyse e.g. being a tourist\\business hotspot there's a greater footfall than other LSOAs or non residents could be higher crime targets.  In the case of Newham which has the 11th highest non-UK population rank (& Lewisham 19th) we found in 2011 the population was less than 1/10th that of the LSOA 2011 population mean (1637) which we did a deeper analysis based on doing a weighting for population but this didn't alter the findings. These 2 LSOAs appear to be outliers.\n",
    "    (b) The LSOA's with the lowest crime rates were also in areas with the lower non-UK population rank. LSOAs in Bexley, Bromley and Kingston upon Thames were the LSOAs with the lowest crime rates for 2011. Once  LSOA population was factored in, a number of Havering and neighbouring LSOAs in Bexley now show as having the lowest crime rates. \n",
    "\n",
    "Repeating steps 4 (a) and (b) for 2021 the findings were as follows:-\n",
    "(a) Westminster LSOAs now feature even more heavily in the top 10 LSOAs with the highest crime rates (up from 4/10 to 7/10), whether we take the pure crime rate or a weighted crime rate factoring in the LSOA population. Newham LSOAs continue to feature in the highest crime rate areas\n",
    "(b) Areas with the lowest crime rates in 2021 continue to be LSOAs with a low non-UK population rate. This time Croydon has replaced Kingston upon Thames in the lowest crime areas. One interesting callout is in Croydon where there's an LSOA with a high non-UK percentage but a low crime rate which may indicate (deeper analysis required) that crime rates in surrounding LSOAs are a better indicator of crime.\n",
    "\n",
    "\n",
    "In summary, for both 2011 and 2021 we can see clusters of LSOAs with both highest and lowest crime rates, with the finding that non-UK population isn't significant in areas with high crime rates but is in ares of low crime rates. We also see that neighbouring LSOAs are in similar crime rate categories.\n",
    "\n",
    "To do:- Draw plots for (a) total crime rates and (b) based on weighted population\n",
    "Also, look at weighted population formula to get agreement i.e. CrimeMap_2011['2011 Weighted Pop Crime Rate'] = CrimeMap_2011['2011 Crime/1000 people'] * (CrimeMap_2011['2011 Non UK Percentage'] * CrimeMap_2011['2011 Population'])"
   ]
  },
  {
   "cell_type": "code",
   "execution_count": null,
   "id": "1270ccf3",
   "metadata": {},
   "outputs": [],
   "source": [
    "pd.set_option('display.width', 600)\n",
    "print(\"Number of LSOAs for analysis:\" + str(len(CrimeMap_2011)))\n",
    "\n",
    "\n",
    "\n",
    "CrimeMap_2011_corr = round(CrimeMap_2011['2011 Crime/1000 people'].corr(CrimeMap_2011['2011 Non UK Percentage']),3)\n",
    "\n",
    "CrimeMap_2011['2011 Weighted Pop Crime Rate'] = CrimeMap_2011['2011 Crime/1000 people'] * (CrimeMap_2011['2011 Non UK Percentage'] * CrimeMap_2011['2011 Population'])\n",
    "\n",
    "print(\"Correlation between crime rate and 2011 non-UK population is:{}\".format(CrimeMap_2011_corr))\n",
    "\n",
    "\n",
    "#Setting inf and null as 0. These were due to missing data\n",
    "CrimeMap_2011_sorted_df = pd.DataFrame(CrimeMap_2011[['2011 Crime/1000 people','2011 Non UK Percentage', '2011 Weighted Pop Crime Rate','2011 Population', 'LSOA Code','LSOA21NM']])\n",
    "CrimeMap_2011_sorted_df=CrimeMap_2011_sorted_df.replace([np.inf, np.NAN],0)\n",
    "\n",
    "#sorting by 2011 Non UK Percentage is descending order in order to create a new column ('Non UK Population Rank') which ranks the LSOA by non-UK population percentage for later analysis\n",
    "CrimeMap_2011_sorted_df = CrimeMap_2011_sorted_df.sort_values(by='2011 Non UK Percentage',ascending=False )\n",
    "CrimeMap_2011_sorted_df['Non UK Population Rank'] = range(1,len(CrimeMap_2011_sorted_df)+1)\n",
    "\n",
    "\n",
    "##excluding 0s as we marked inf\\nulls as 0. \n",
    "CrimeMap_2011_sorted_df_filtered = CrimeMap_2011_sorted_df[CrimeMap_2011_sorted_df['2011 Crime/1000 people'] > 0]\n",
    "CrimeMap_2011_sorted_df = CrimeMap_2011_sorted_df.sort_values(by='2011 Crime/1000 people',ascending=False )\n",
    "CrimeMap_2011_sorted_df['Crime Rank'] = range(1,len(CrimeMap_2011_sorted_df)+1)\n",
    "CrimeMap_2011_sorted_df_filtered = CrimeMap_2011_sorted_df[CrimeMap_2011_sorted_df['2011 Crime/1000 people'] > 0] \n",
    "\n",
    "\n",
    "CrimeMap_2011_sorted_df = CrimeMap_2011_sorted_df.sort_values(by='2011 Crime/1000 people',ascending=False )\n",
    "CrimeMap_2011_sorted_df_filtered = CrimeMap_2011_sorted_df[CrimeMap_2011_sorted_df['2011 Crime/1000 people'] > 0]\n",
    "\n",
    "print(\"LSOAs with highest crime rate in 2011:\")\n",
    "print(CrimeMap_2011_sorted_df_filtered.head(10))\n",
    "\n",
    "print(\"LSOAs with lowest crime rate in 2011:\")\n",
    "print(CrimeMap_2011_sorted_df_filtered.tail(10))\n",
    "\n",
    "CrimeMap_2011_sorted_df = CrimeMap_2011_sorted_df.sort_values(by='2011 Weighted Pop Crime Rate',ascending=False )\n",
    "CrimeMap_2011_sorted_df_filtered = CrimeMap_2011_sorted_df[CrimeMap_2011_sorted_df['2011 Weighted Pop Crime Rate'] > 0]\n",
    "\n",
    "print(\"LSOAs with highest crime rate in 2011 weighted by non UK Population:\")\n",
    "print(CrimeMap_2011_sorted_df_filtered.head(10))\n",
    "\n",
    "print(\"LSOAs with lowest crime rate in 2011 weighted by non UK Population:\")\n",
    "print(CrimeMap_2011_sorted_df_filtered.tail(10))"
   ]
  },
  {
   "cell_type": "code",
   "execution_count": null,
   "id": "2b21205b",
   "metadata": {},
   "outputs": [],
   "source": [
    "CrimeMap_2021_corr = round(CrimeMap_2021['2021 Crime/1000 people'].corr(CrimeMap_2021['2021 Non UK Percentage']),3)\n",
    "\n",
    "CrimeMap_2021['2021 Weighted Pop Crime Rate'] = CrimeMap_2021['2021 Crime/1000 people'] * (CrimeMap_2021['2021 Non UK Percentage'] * CrimeMap_2021['2021 Population'])\n",
    "\n",
    "print(\"Correlation between crime rate and 2021 non-UK population is:{}\".format(CrimeMap_2021_corr))\n",
    "\n",
    "\n",
    "#Setting inf and null as 0. These were due to missing data\n",
    "CrimeMap_2021_sorted_df = pd.DataFrame(CrimeMap_2021[['2021 Crime/1000 people','2021 Non UK Percentage', '2021 Weighted Pop Crime Rate','2021 Population', 'LSOA Code','LSOA21NM']])\n",
    "CrimeMap_2021_sorted_df=CrimeMap_2021_sorted_df.replace([np.inf, np.NAN],0)\n",
    "\n",
    "#sorting by 2021 Non UK Percentage is descending order in order to create a new column ('Non UK Population Rank') which ranks the LSOA by non-UK population percentage for later analysis\n",
    "CrimeMap_2021_sorted_df = CrimeMap_2021_sorted_df.sort_values(by='2021 Non UK Percentage',ascending=False )\n",
    "CrimeMap_2021_sorted_df['Non UK Population Rank'] = range(1,len(CrimeMap_2021_sorted_df)+1)\n",
    "\n",
    "\n",
    "##excluding 0s as we marked inf\\nulls as 0. \n",
    "CrimeMap_2021_sorted_df_filtered = CrimeMap_2021_sorted_df[CrimeMap_2021_sorted_df['2021 Crime/1000 people'] > 0]\n",
    "CrimeMap_2021_sorted_df = CrimeMap_2021_sorted_df.sort_values(by='2021 Crime/1000 people',ascending=False )\n",
    "CrimeMap_2021_sorted_df['Crime Rank'] = range(1,len(CrimeMap_2021_sorted_df)+1)\n",
    "CrimeMap_2021_sorted_df_filtered = CrimeMap_2021_sorted_df[CrimeMap_2021_sorted_df['2021 Crime/1000 people'] > 0] \n",
    "\n",
    "\n",
    "CrimeMap_2021_sorted_df = CrimeMap_2021_sorted_df.sort_values(by='2021 Crime/1000 people',ascending=False )\n",
    "CrimeMap_2021_sorted_df_filtered = CrimeMap_2021_sorted_df[CrimeMap_2021_sorted_df['2021 Crime/1000 people'] > 0]\n",
    "\n",
    "print(\"LSOAs with highest crime rate in 2021:\")\n",
    "print(CrimeMap_2021_sorted_df_filtered.head(10))\n",
    "\n",
    "print(\"LSOAs with lowest crime rate in 2021:\")\n",
    "print(CrimeMap_2021_sorted_df_filtered.tail(10))\n",
    "\n",
    "CrimeMap_2021_sorted_df = CrimeMap_2021_sorted_df.sort_values(by='2021 Weighted Pop Crime Rate',ascending=False )\n",
    "CrimeMap_2021_sorted_df_filtered = CrimeMap_2021_sorted_df[CrimeMap_2021_sorted_df['2021 Weighted Pop Crime Rate'] > 0]\n",
    "\n",
    "print(\"LSOAs with highest crime rate in 2021 weighted by non UK Population:\")\n",
    "print(CrimeMap_2021_sorted_df_filtered.head(10))\n",
    "\n",
    "print(\"LSOAs with lowest crime rate in 2021 weighted by non UK Population:\")\n",
    "print(CrimeMap_2021_sorted_df_filtered.tail(10))"
   ]
  }
 ],
 "metadata": {
  "kernelspec": {
   "display_name": "Python 3 (ipykernel)",
   "language": "python",
   "name": "python3"
  },
  "language_info": {
   "codemirror_mode": {
    "name": "ipython",
    "version": 3
   },
   "file_extension": ".py",
   "mimetype": "text/x-python",
   "name": "python",
   "nbconvert_exporter": "python",
   "pygments_lexer": "ipython3",
   "version": "3.11.5"
  }
 },
 "nbformat": 4,
 "nbformat_minor": 5
}
